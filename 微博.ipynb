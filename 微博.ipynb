{
 "cells": [
  {
   "cell_type": "code",
   "execution_count": 1,
   "metadata": {},
   "outputs": [],
   "source": [
    "import requests\n",
    "from bs4 import BeautifulSoup"
   ]
  },
  {
   "cell_type": "code",
   "execution_count": 2,
   "metadata": {
    "collapsed": true
   },
   "outputs": [
    {
     "data": {
      "text/plain": [
       "'<!DOCTYPE html>\\n<html>\\n<head>\\n    <meta http-equiv=\"Content-type\" content=\"text/html; charset=gb2312\"/>\\n    <title>Sina Visitor System</title>\\n</head>\\n<body>\\n<span id=\"message\"></span>\\n<script type=\"text/javascript\" src=\"/js/visitor/mini_original.js?v=20161116\"></script>\\n<script type=\"text/javascript\">\\n    window.use_fp = \"1\" == \"1\"; // 是否采集设备指纹。\\n    var url = url || {};\\n    (function () {\\n        this.l = function (u, c) {\\n            try {\\n                var s = document.createElement(\"script\");\\n                s.type = \"text/javascript\";\\n                s[document.all ? \"onreadystatechange\" : \"onload\"] = function () {\\n\\n                    if (document.all && this.readyState != \"loaded\" && this.readyState != \"complete\") {\\n                        return\\n                    }\\n                    this[document.all ? \"onreadystatechange\" : \"onload\"] = null;\\n                    this.parentNode.removeChild(this);\\n                    if (c) {\\n                        c()\\n                    }\\n                };\\n                s.src = u;\\n                document.getElementsByTagName(\"head\")[0].appendChild(s)\\n            } catch (e) {\\n            }\\n        };\\n    }).call(url);\\n\\n    // 流程入口。\\n    wload(function () {\\n\\n        try {\\n\\n            var need_restore = \"1\" == \"1\"; // 是否走恢复身份流程。\\n\\n            // 如果需要走恢复身份流程，尝试从 cookie 获取用户身份。\\n            if (!need_restore || !Store.CookieHelper.get(\"SRF\")) {\\n\\n                // 若获取失败走创建访客流程。\\n                // 流程执行时间过长（超过 3s），则认为出错。\\n                var error_timeout = window.setTimeout(\"error_back()\", 5000);\\n\\n                tid.get(function (tid, where, confidence) {\\n                    // 取指纹顺利完成，清除出错 timeout 。\\n                    window.clearTimeout(error_timeout);\\n                    incarnate(tid, where, confidence);\\n                });\\n            } else {\\n                // 用户身份存在，尝试恢复用户身份。\\n                restore();\\n            }\\n        } catch (e) {\\n            // 出错。\\n            error_back();\\n        }\\n    });\\n\\n    // “返回” 回调函数。\\n    var return_back = function (response) {\\n\\n        if (response[\"retcode\"] == 20000000) {\\n            back();\\n        } else {\\n            // 出错。\\n            error_back(response[\"msg\"]);\\n        }\\n    };\\n\\n    // 跳转回初始地址。\\n    var back = function() {\\n\\n        var url = \"https://weibo.com/p/1005052805326271/follow?relate=fans&from=100505&wvr=6&mod=headfans&current=fans\";\\n        if (url != \"none\") {\\n            window.location.href = url;\\n        }\\n    };\\n\\n    // 跨域广播。\\n    var cross_domain = function (response) {\\n\\n        var from = \"weibo\";\\n        if (response[\"retcode\"] == 20000000) {\\n\\n            var crossdomain_host = \"login.sina.com.cn\";\\n            if (crossdomain_host != \"none\") {\\n\\n                var cross_domain_intr = window.location.protocol + \"//\" + crossdomain_host + \"/visitor/visitor?a=crossdomain&cb=return_back&s=\" +\\n                        encodeURIComponent(response[\"data\"][\"sub\"]) + \"&sp=\" + encodeURIComponent(response[\"data\"][\"subp\"]) + \"&from=\" + from + \"&_rand=\" + Math.random();\\n                url.l(cross_domain_intr);\\n            } else {\\n\\n                back();\\n            }\\n        } else {\\n\\n            // 出错。\\n            error_back(response[\"msg\"]);\\n        }\\n    };\\n\\n    // 为用户赋予访客身份 。\\n    var incarnate = function (tid, where, conficence) {\\n\\n        var gen_conf = \"\";\\n        var from = \"weibo\";\\n        var incarnate_intr = window.location.protocol + \"//\" + window.location.host + \"/visitor/visitor?a=incarnate&t=\" +\\n                encodeURIComponent(tid) + \"&w=\" + encodeURIComponent(where) + \"&c=\" + encodeURIComponent(conficence) +\\n                \"&gc=\" + encodeURIComponent(gen_conf) + \"&cb=cross_domain&from=\" + from + \"&_rand=\" + Math.random();\\n        url.l(incarnate_intr);\\n    };\\n\\n    // 恢复用户丢失的身份。\\n    var restore = function () {\\n\\n        var from = \"weibo\";\\n        var restore_intr = window.location.protocol + \"//\" + window.location.host +\\n                \"/visitor/visitor?a=restore&cb=restore_back&from=\" + from + \"&_rand=\" + Math.random();\\n\\n        url.l(restore_intr);\\n    };\\n\\n    // 跨域恢复丢失的身份。\\n    var restore_back = function (response) {\\n\\n        // 身份恢复成功走广播流程，否则走创建访客流程。\\n        if (response[\"retcode\"] == 20000000) {\\n\\n            var url = \"https://weibo.com/p/1005052805326271/follow?relate=fans&from=100505&wvr=6&mod=headfans&current=fans\";\\n            var alt = response[\"data\"][\"alt\"];\\n            var savestate = response[\"data\"][\"savestate\"];\\n            if (alt != \"\") {\\n                requrl = (url == \"none\") ? \"\" : \"&url=\" + encodeURIComponent(url);\\n                var params = \"entry=sso&alt=\" + encodeURIComponent(alt) + \"&returntype=META\" +\\n                    \"&gateway=1&savestate=\" + encodeURIComponent(savestate) + requrl;\\n                window.location.href = \"https://login.sina.com.cn/sso/login.php?\" + params;\\n            } else {\\n\\n                cross_domain(response);\\n            }\\n        } else if(response[\\'retcode\\'] == 50111261 && isInIframe()) {\\n            //do nothing\\n        } else {\\n\\n            tid.get(function (tid, where, confidence) {\\n                incarnate(tid, where, confidence);\\n            });\\n        }\\n    };\\n\\n    // 出错情况返回登录页。\\n    var error_back = function (msg) {\\n\\n        var url = \"https://weibo.com/p/1005052805326271/follow?relate=fans&from=100505&wvr=6&mod=headfans&current=fans\";\\n        var clientType = \"pc\";\\n        if (url != \"none\") {\\n\\n            if (url.indexOf(\"ssovie4c55=0\") === -1) {\\n                url += (((url.indexOf(\"?\") === -1) ? \"?\" : \"&\") + \"ssovie4c55=0\");\\n            }\\n            if (clientType == \"mobile\") {\\n            \\twindow.location.href = \"https://passport.weibo.cn/signin/login?r=\"+url;\\n            } else{\\n            \\twindow.location.href = \"http://weibo.com/login.php\";\\n            }\\n        } else {\\n\\n            if(document.getElementById(\"message\")) {\\n                document.getElementById(\"message\").innerHTML = \"Error occurred\" + (msg ? (\": \" + msg) : \".\");\\n            }\\n        }\\n    };\\n\\n    var isInIframe = function () {\\n        try {\\n            return window.self !== window.top;\\n        } catch (e) {\\n            return true;\\n        }\\n    };\\n\\n</script>\\n</body>\\n</html>'"
      ]
     },
     "execution_count": 2,
     "metadata": {},
     "output_type": "execute_result"
    }
   ],
   "source": [
    "r = requests.get('https://www.weibo.com/p/1005052805326271/follow?relate=fans&from=100505&wvr=6&mod=headfans&current=fans#place')\n",
    "r.encoding = r.apparent_encoding\n",
    "r.text"
   ]
  },
  {
   "cell_type": "code",
   "execution_count": 3,
   "metadata": {},
   "outputs": [],
   "source": [
    "# 将内容转换为html格式，作为一个对象\n",
    "bf = BeautifulSoup(r.text)\n",
    "\n",
    "# 提取所有 div 标签中， class为 showtxt的\n",
    "text = bf.find_all('div', class_ = 'follow_list')"
   ]
  },
  {
   "cell_type": "code",
   "execution_count": 4,
   "metadata": {},
   "outputs": [
    {
     "data": {
      "text/plain": [
       "[]"
      ]
     },
     "execution_count": 4,
     "metadata": {},
     "output_type": "execute_result"
    }
   ],
   "source": [
    "text"
   ]
  },
  {
   "cell_type": "code",
   "execution_count": null,
   "metadata": {},
   "outputs": [],
   "source": []
  }
 ],
 "metadata": {
  "kernelspec": {
   "display_name": "Python 3",
   "language": "python",
   "name": "python3"
  },
  "language_info": {
   "codemirror_mode": {
    "name": "ipython",
    "version": 3
   },
   "file_extension": ".py",
   "mimetype": "text/x-python",
   "name": "python",
   "nbconvert_exporter": "python",
   "pygments_lexer": "ipython3",
   "version": "3.6.5"
  }
 },
 "nbformat": 4,
 "nbformat_minor": 2
}
