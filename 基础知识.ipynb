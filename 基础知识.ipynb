{
 "cells": [
  {
   "cell_type": "markdown",
   "metadata": {},
   "source": [
    "# Git\n",
    "___\n",
    "\n",
    "### Git & Github\n",
    "* 前者是版本管理工具，后者提供网页版服务\n",
    "\n",
    "### Terms\n",
    "**repositories**: repo, 存放处\n",
    "**commit**: save and commit the changes\n",
    "**branch**: 分支, 用于创建master的副本，并可以在之后和master合并\n",
    "**pull requests**: 请求review我的修改，并合并入master repo. 会显示和master不一样的地方\n",
    "****: \n",
    "****: \n",
    "****: \n",
    "****: \n",
    "****:    \n",
    "\n",
    "___"
   ]
  },
  {
   "cell_type": "markdown",
   "metadata": {},
   "source": [
    "### HTML\n",
    "> **标签**: HTML是由各不同的标签组成的，就像目录一样\n",
    "* head:\n",
    "* body:\n",
    "* div:\n",
    "\n",
    "> **属性**: \n",
    "* id: \n",
    "* class: \n",
    "* href: 连接的目标\n",
    "\n",
    "> **属性值**\n",
    "* href: 对应\n"
   ]
  },
  {
   "cell_type": "markdown",
   "metadata": {},
   "source": [
    "### 动态网站\n",
    "* 通过调用JavaScript脚本来实现，这些脚本可以有五花八门，各式各样的\n",
    "* "
   ]
  },
  {
   "cell_type": "markdown",
   "metadata": {},
   "source": [
    "### 抓包，_抓取数据包_\n",
    "* 工具**MAC charles**\n",
    "* 在网页上操作时，拦截传输过来的数据包，在分析其中包含的信息\n",
    "* 可以记录本地与服务器之间所有发送和接受的数据\n",
    "\n"
   ]
  },
  {
   "cell_type": "code",
   "execution_count": null,
   "metadata": {},
   "outputs": [],
   "source": []
  }
 ],
 "metadata": {
  "kernelspec": {
   "display_name": "Python 3",
   "language": "python",
   "name": "python3"
  },
  "language_info": {
   "codemirror_mode": {
    "name": "ipython",
    "version": 3
   },
   "file_extension": ".py",
   "mimetype": "text/x-python",
   "name": "python",
   "nbconvert_exporter": "python",
   "pygments_lexer": "ipython3",
   "version": "3.6.5"
  }
 },
 "nbformat": 4,
 "nbformat_minor": 2
}
