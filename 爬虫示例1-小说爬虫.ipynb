{
 "cells": [
  {
   "cell_type": "code",
   "execution_count": null,
   "metadata": {},
   "outputs": [],
   "source": []
  },
  {
   "cell_type": "code",
   "execution_count": null,
   "metadata": {},
   "outputs": [],
   "source": []
  },
  {
   "cell_type": "code",
   "execution_count": null,
   "metadata": {},
   "outputs": [],
   "source": [
    "server = 'https://www.biqukan.com/'\n",
    "r = requests.get('https://www.biqukan.com/1_1094/')\n",
    "\n",
    "# 将内容转换为html格式，作为一个对象\n",
    "bf = BeautifulSoup(r.text)\n",
    "\n",
    "# 提取所有 div 标签中， class为 listmain\n",
    "listmain = bf.find_all('div', class_ = 'listmain')\n",
    "\n",
    "# 提取其中所有标签为 a 的\n",
    "a = listmain[0].find_all('a')"
   ]
  },
  {
   "cell_type": "code",
   "execution_count": null,
   "metadata": {},
   "outputs": [],
   "source": [
    "class downloader(object):\n",
    "    \n",
    "    def __init__(self):\n",
    "        self.nums = 0 # 章节数\n",
    "        self.names = [] # 存放章节名\n",
    "        self.urls = [] # 存放URLs\n",
    "        self.server = \"http://www.biqukan.com/\"\n",
    "        self.target = \"http://www.biqukan.com/1_1094/\"\n",
    "        \n",
    "    def get_download_url(self):\n",
    "        req = requests.get(self.target)\n",
    "        html = req.text\n",
    "        div_bf = BeautifulSoup(html)\n",
    "        div = div_bf.find_all('div', class_ = 'listmain')\n",
    "        a_bf = BeautifulSoup(str(div[0]))\n",
    "        a = a_bf.find_all('a')\n",
    "        self.nums = len(a)\n",
    "        for each in a:\n",
    "            self.names.append(each.string)\n",
    "            self.urls.append(self.server + each.get('href'))\n",
    "\n",
    "    # input URLs\n",
    "    def get_contents(self, target):\n",
    "        req = requests.get(target)\n",
    "        html = req.text\n",
    "        bf = BeautifulSoup(html)\n",
    "        texts = bf.find_all('div', class_ = 'showtxt')\n",
    "        texts = texts[0].text.replace('\\xa0'*8,'\\n\\n')\n",
    "        return texts\n",
    "    \n",
    "    def writer(self, name, path, text):\n",
    "        write_flag = True\n",
    "        with open(path, 'a', encoding='utf-8') as f:\n",
    "            f.write(name + '\\n')\n",
    "            f.writelines(text)\n",
    "            f.write('\\n\\n')\n",
    "\n",
    "if __name__ == \"__main__\":\n",
    "    dl = downloader()\n",
    "    dl.get_download_url()\n",
    "    print('《一年永恒》开始下载：')\n",
    "    \n",
    "    for i in range(dl.nums):\n",
    "        dl.writer(dl.names[i], '一念永恒.txt', dl.get_contents(dl.urls[i]))\n",
    "        sys.stdout.write(\"  已下载:%.3f%%\" %  float(i/dl.nums) + '\\r')\n",
    "        sys.stdout.flush()\n",
    "\n",
    "    print('《一年永恒》下载完成')"
   ]
  }
 ],
 "metadata": {
  "kernelspec": {
   "display_name": "Python 3",
   "language": "python",
   "name": "python3"
  },
  "language_info": {
   "codemirror_mode": {
    "name": "ipython",
    "version": 3
   },
   "file_extension": ".py",
   "mimetype": "text/x-python",
   "name": "python",
   "nbconvert_exporter": "python",
   "pygments_lexer": "ipython3",
   "version": "3.6.5"
  }
 },
 "nbformat": 4,
 "nbformat_minor": 2
}
